{
 "cells": [
  {
   "cell_type": "code",
   "execution_count": null,
   "id": "c07c2dc7",
   "metadata": {},
   "outputs": [],
   "source": [
    "import numpy as np\n",
    "import pandas as pd\n",
    "import matplotlib.pyplot as plt\n",
    "import seaborn as sns\n",
    "data = pd.read_csv(\"\")\n",
    "data.head()"
   ]
  },
  {
   "cell_type": "code",
   "execution_count": null,
   "id": "ddcc2d90",
   "metadata": {},
   "outputs": [],
   "source": [
    "data.describe()"
   ]
  },
  {
   "cell_type": "code",
   "execution_count": null,
   "id": "fb554143",
   "metadata": {},
   "outputs": [],
   "source": [
    "pd.to_datetime(data.date)\n",
    "data.country.value_counts()"
   ]
  },
  {
   "cell_type": "code",
   "execution_count": null,
   "id": "0f782d38",
   "metadata": {},
   "outputs": [],
   "source": [
    "data = data[data.country.apply(lambda x: x not in [\"England\", \"Scotland\", \"Wales\", \"Northern Ireland\"])]\n",
    "data.country.value_counts()"
   ]
  },
  {
   "cell_type": "code",
   "execution_count": null,
   "id": "d1dd5a29",
   "metadata": {},
   "outputs": [],
   "source": [
    "data.vaccines.value_counts()"
   ]
  },
  {
   "cell_type": "code",
   "execution_count": null,
   "id": "7bb073cb",
   "metadata": {},
   "outputs": [],
   "source": [
    "df = data[[\"vaccines\", \"country\"]]\n",
    "df.head()"
   ]
  },
  {
   "cell_type": "code",
   "execution_count": null,
   "id": "d0e3d6ba",
   "metadata": {},
   "outputs": [],
   "source": [
    "dict_ = {}\n",
    "for i in df.vaccines.unique():\n",
    "  dict_[i] = [df[\"country\"][j] for j in df[df[\"vaccines\"]==i].index]\n",
    "\n",
    "vaccines = {}\n",
    "for key, value in dict_.items():\n",
    "  vaccines[key] = set(value)\n",
    "for i, j in vaccines.items():\n",
    "  print(f\"{i}:>>{j}\")"
   ]
  },
  {
   "cell_type": "code",
   "execution_count": null,
   "id": "6fa48790",
   "metadata": {},
   "outputs": [],
   "source": [
    "import plotly.express as px\n",
    "import plotly.offline as py\n",
    "\n",
    "vaccine_map = px.choropleth(data, locations = 'iso_code', color = 'vaccines')\n",
    "vaccine_map.update_layout(height=300, margin={\"r\":0,\"t\":0,\"l\":0,\"b\":0})\n",
    "vaccine_map.show()"
   ]
  },
  {
   "cell_type": "code",
   "execution_count": null,
   "id": "a2f3a6fb",
   "metadata": {},
   "outputs": [],
   "source": []
  }
 ],
 "metadata": {
  "kernelspec": {
   "display_name": "Python 3 (ipykernel)",
   "language": "python",
   "name": "python3"
  },
  "language_info": {
   "codemirror_mode": {
    "name": "ipython",
    "version": 3
   },
   "file_extension": ".py",
   "mimetype": "text/x-python",
   "name": "python",
   "nbconvert_exporter": "python",
   "pygments_lexer": "ipython3",
   "version": "3.9.13"
  }
 },
 "nbformat": 4,
 "nbformat_minor": 5
}
