{
 "cells": [
  {
   "cell_type": "code",
   "execution_count": null,
   "id": "c07c2dc7",
   "metadata": {},
   "outputs": [],
   "source": [
    "import numpy as np\n",
    "import pandas as pd\n",
    "import matplotlib.pyplot as plt\n",
    "import seaborn as sns\n",
    "data = pd.read_csv(\"\")\n",
    "data.head()"
   ]
  },
  {
   "cell_type": "code",
   "execution_count": null,
   "id": "ddcc2d90",
   "metadata": {},
   "outputs": [],
   "source": [
    "data.describe()"
   ]
  }
